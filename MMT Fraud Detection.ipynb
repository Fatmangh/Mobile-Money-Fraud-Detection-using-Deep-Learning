{
  "nbformat": 4,
  "nbformat_minor": 0,
  "metadata": {
    "colab": {
      "name": "SPAM CLASSIFIER.ipynb",
      "provenance": [],
      "collapsed_sections": [],
      "machine_shape": "hm"
    },
    "kernelspec": {
      "name": "python3",
      "display_name": "Python 3"
    },
    "language_info": {
      "name": "python"
    },
    "accelerator": "GPU"
  },
  "cells": [
    {
      "cell_type": "code",
      "metadata": {
        "colab": {
          "base_uri": "https://localhost:8080/"
        },
        "id": "A_rRqGfWNxHB",
        "outputId": "0c815e7a-ea69-416e-e674-7bb0406e908c"
      },
      "source": [
        "# This mounts your Google Drive to the Colab VM.\n",
        "from google.colab import drive\n",
        "drive.mount('/content/drive')\n",
        "\n",
        "# TODO: Enter the foldername in your Drive where you have saved the unzipped\n",
        "# assignment folder, e.g. 'cs231n/assignments/assignment1/'\n",
        "FOLDERNAME = ''\n",
        "# assert FOLDERNAME is not None, \"[!] Enter the foldername.\"\n",
        "\n",
        "# Now that we've mounted your Drive, this ensures that\n",
        "# the Python interpreter of the Colab VM can load\n",
        "# python files from within it.\n",
        "import sys\n",
        "sys.path.append('/content/drive/My Drive/cs229/')\n",
        "\n",
        "# This downloads the CIFAR-10 dataset to your Drive\n",
        "# if it doesn't already exist.\n",
        "%cd /content/drive/My Drive/cs229/"
      ],
      "execution_count": 21,
      "outputs": [
        {
          "output_type": "stream",
          "text": [
            "Drive already mounted at /content/drive; to attempt to forcibly remount, call drive.mount(\"/content/drive\", force_remount=True).\n",
            "/content/drive/My Drive/cs229\n"
          ],
          "name": "stdout"
        }
      ]
    },
    {
      "cell_type": "code",
      "metadata": {
        "id": "wkjsTMisS2hP"
      },
      "source": [
        "import pandas as pd\n",
        "import seaborn as sns\n",
        "import matplotlib.pyplot as plt\n",
        "\n",
        "from sklearn.preprocessing import LabelEncoder\n",
        "from sklearn.model_selection import train_test_split\n",
        "\n",
        "from sklearn.feature_extraction.text import CountVectorizer\n",
        "\n",
        "import string\n",
        "import nltk\n",
        "from nltk.corpus import stopwords"
      ],
      "execution_count": 56,
      "outputs": []
    },
    {
      "cell_type": "markdown",
      "metadata": {
        "id": "7GB4IliVSw4p"
      },
      "source": [
        "DATA CLEANING"
      ]
    },
    {
      "cell_type": "code",
      "metadata": {
        "id": "eSxUObQAMQMm"
      },
      "source": [
        "data1 = pd.read_csv('./spam.csv',delimiter=',',encoding='latin-1').drop(['Unnamed: 2', 'Unnamed: 3', 'Unnamed: 4'], axis=1).rename(columns={'v1':'type', 'v2':'text'})\n",
        "data2 = pd.read_csv('./spamraw.csv',delimiter=',',encoding='latin-1')\n",
        "data3 = pd.read_csv('./real.csv',delimiter=',',encoding='latin-1')\n",
        "\n",
        "df = data1.append(data2)\n",
        "df = df.append(data3)"
      ],
      "execution_count": 57,
      "outputs": []
    },
    {
      "cell_type": "code",
      "metadata": {
        "colab": {
          "base_uri": "https://localhost:8080/",
          "height": 204
        },
        "id": "pWUoyntiTNqQ",
        "outputId": "00f1438f-5488-4053-a79c-fd79fbb7c413"
      },
      "source": [
        "df = df.rename(columns={'type':'label', 'text':'message'})\n",
        "df.head()"
      ],
      "execution_count": 58,
      "outputs": [
        {
          "output_type": "execute_result",
          "data": {
            "text/html": [
              "<div>\n",
              "<style scoped>\n",
              "    .dataframe tbody tr th:only-of-type {\n",
              "        vertical-align: middle;\n",
              "    }\n",
              "\n",
              "    .dataframe tbody tr th {\n",
              "        vertical-align: top;\n",
              "    }\n",
              "\n",
              "    .dataframe thead th {\n",
              "        text-align: right;\n",
              "    }\n",
              "</style>\n",
              "<table border=\"1\" class=\"dataframe\">\n",
              "  <thead>\n",
              "    <tr style=\"text-align: right;\">\n",
              "      <th></th>\n",
              "      <th>label</th>\n",
              "      <th>message</th>\n",
              "    </tr>\n",
              "  </thead>\n",
              "  <tbody>\n",
              "    <tr>\n",
              "      <th>0</th>\n",
              "      <td>ham</td>\n",
              "      <td>Go until jurong point, crazy.. Available only ...</td>\n",
              "    </tr>\n",
              "    <tr>\n",
              "      <th>1</th>\n",
              "      <td>ham</td>\n",
              "      <td>Ok lar... Joking wif u oni...</td>\n",
              "    </tr>\n",
              "    <tr>\n",
              "      <th>2</th>\n",
              "      <td>spam</td>\n",
              "      <td>Free entry in 2 a wkly comp to win FA Cup fina...</td>\n",
              "    </tr>\n",
              "    <tr>\n",
              "      <th>3</th>\n",
              "      <td>ham</td>\n",
              "      <td>U dun say so early hor... U c already then say...</td>\n",
              "    </tr>\n",
              "    <tr>\n",
              "      <th>4</th>\n",
              "      <td>ham</td>\n",
              "      <td>Nah I don't think he goes to usf, he lives aro...</td>\n",
              "    </tr>\n",
              "  </tbody>\n",
              "</table>\n",
              "</div>"
            ],
            "text/plain": [
              "  label                                            message\n",
              "0   ham  Go until jurong point, crazy.. Available only ...\n",
              "1   ham                      Ok lar... Joking wif u oni...\n",
              "2  spam  Free entry in 2 a wkly comp to win FA Cup fina...\n",
              "3   ham  U dun say so early hor... U c already then say...\n",
              "4   ham  Nah I don't think he goes to usf, he lives aro..."
            ]
          },
          "metadata": {
            "tags": []
          },
          "execution_count": 58
        }
      ]
    },
    {
      "cell_type": "code",
      "metadata": {
        "colab": {
          "base_uri": "https://localhost:8080/",
          "height": 173
        },
        "id": "t9nQmpnFo2FV",
        "outputId": "110893df-b04f-4238-a61d-c1e854dc8019"
      },
      "source": [
        "df.describe()"
      ],
      "execution_count": 59,
      "outputs": [
        {
          "output_type": "execute_result",
          "data": {
            "text/html": [
              "<div>\n",
              "<style scoped>\n",
              "    .dataframe tbody tr th:only-of-type {\n",
              "        vertical-align: middle;\n",
              "    }\n",
              "\n",
              "    .dataframe tbody tr th {\n",
              "        vertical-align: top;\n",
              "    }\n",
              "\n",
              "    .dataframe thead th {\n",
              "        text-align: right;\n",
              "    }\n",
              "</style>\n",
              "<table border=\"1\" class=\"dataframe\">\n",
              "  <thead>\n",
              "    <tr style=\"text-align: right;\">\n",
              "      <th></th>\n",
              "      <th>label</th>\n",
              "      <th>message</th>\n",
              "    </tr>\n",
              "  </thead>\n",
              "  <tbody>\n",
              "    <tr>\n",
              "      <th>count</th>\n",
              "      <td>11171</td>\n",
              "      <td>11171</td>\n",
              "    </tr>\n",
              "    <tr>\n",
              "      <th>unique</th>\n",
              "      <td>2</td>\n",
              "      <td>6106</td>\n",
              "    </tr>\n",
              "    <tr>\n",
              "      <th>top</th>\n",
              "      <td>ham</td>\n",
              "      <td>Sorry, I'll call later</td>\n",
              "    </tr>\n",
              "    <tr>\n",
              "      <th>freq</th>\n",
              "      <td>9669</td>\n",
              "      <td>60</td>\n",
              "    </tr>\n",
              "  </tbody>\n",
              "</table>\n",
              "</div>"
            ],
            "text/plain": [
              "        label                 message\n",
              "count   11171                   11171\n",
              "unique      2                    6106\n",
              "top       ham  Sorry, I'll call later\n",
              "freq     9669                      60"
            ]
          },
          "metadata": {
            "tags": []
          },
          "execution_count": 59
        }
      ]
    },
    {
      "cell_type": "code",
      "metadata": {
        "colab": {
          "base_uri": "https://localhost:8080/",
          "height": 366
        },
        "id": "0rKba_OHUGyx",
        "outputId": "9009d369-82ae-47ca-913e-344a732d8ed0"
      },
      "source": [
        "sns.countplot(df.label)\n",
        "plt.xlabel('label')\n",
        "plt.title('Number of ham and spam messages')"
      ],
      "execution_count": 60,
      "outputs": [
        {
          "output_type": "stream",
          "text": [
            "/usr/local/lib/python3.7/dist-packages/seaborn/_decorators.py:43: FutureWarning: Pass the following variable as a keyword arg: x. From version 0.12, the only valid positional argument will be `data`, and passing other arguments without an explicit keyword will result in an error or misinterpretation.\n",
            "  FutureWarning\n"
          ],
          "name": "stderr"
        },
        {
          "output_type": "execute_result",
          "data": {
            "text/plain": [
              "Text(0.5, 1.0, 'Number of ham and spam messages')"
            ]
          },
          "metadata": {
            "tags": []
          },
          "execution_count": 60
        },
        {
          "output_type": "display_data",
          "data": {
            "image/png": "[encoded data removed]",
            "text/plain": [
              "<Figure size 432x288 with 1 Axes>"
            ]
          },
          "metadata": {
            "tags": [],
            "needs_background": "light"
          }
        }
      ]
    },
    {
      "cell_type": "code",
      "metadata": {
        "colab": {
          "base_uri": "https://localhost:8080/",
          "height": 513
        },
        "id": "aXpdFlHfZ5WI",
        "outputId": "74685fb1-b78b-4a98-cebc-2ea2ab855d18"
      },
      "source": [
        "df['len'] = df['message'].apply(len)\n",
        "fig,ax=plt.subplots(figsize=(12,8))\n",
        "check = 'ham'\n",
        "sns.histplot(df[df['label']==check],x='len',color='green',ax=ax,alpha=0.7)\n",
        "ymin, ymax = plt.gca().get_ylim()\n",
        "plt.vlines(x=df.loc[df['label']==check,'len'].median(),ymin=ymin,ymax=ymax,color='green',alpha=0.5,linestyles='dashed')\n",
        "check = 'spam'\n",
        "sns.histplot(df[df['label']==check],x='len',color='red',ax=ax,alpha=0.9)\n",
        "plt.vlines(x=df.loc[df['label']==check,'len'].median(),ymin=ymin,ymax=ymax,color='orange',linestyles='dashed')\n",
        "\n",
        "plt.legend(['median ham lengths','median spam lengths'])\n",
        "_=plt.title('Distribution of message sizes')\n",
        "_=plt.ylabel('Count or Frequency')\n",
        "_=plt.xlabel('Message Length  (in characters)')"
      ],
      "execution_count": 61,
      "outputs": [
        {
          "output_type": "display_data",
          "data": {
            "image/png": "[encoded data removed]",
            "text/plain": [
              "<Figure size 864x576 with 1 Axes>"
            ]
          },
          "metadata": {
            "tags": [],
            "needs_background": "light"
          }
        }
      ]
    },
    {
      "cell_type": "code",
      "metadata": {
        "id": "kYQUXHvPgJeq"
      },
      "source": [
        "X = df.message\n",
        "Y = df.label\n",
        "le = LabelEncoder()\n",
        "Y = le.fit_transform(Y)\n",
        "Y = Y.reshape(-1,1)"
      ],
      "execution_count": 62,
      "outputs": []
    },
    {
      "cell_type": "markdown",
      "metadata": {
        "id": "ou7C3yahTn6I"
      },
      "source": [
        "FEATURE EXTRACTION\n"
      ]
    },
    {
      "cell_type": "code",
      "metadata": {
        "id": "m285Am3iYwA0"
      },
      "source": [
        "from sklearn.pipeline import FeatureUnion \n",
        "#FeatureUnion is used to concat feaatures obtained using different transform functions\n",
        "from sklearn.preprocessing import FunctionTransformer\n",
        "#FunctionTransformer can create a transform function from any arbitrary or user defined function\n",
        "from scipy.sparse import csr_matrix\n",
        "from sklearn.feature_extraction.text import TfidfVectorizer\n",
        "\n",
        "\n",
        "from sklearn.manifold import TSNE"
      ],
      "execution_count": 63,
      "outputs": []
    },
    {
      "cell_type": "code",
      "metadata": {
        "colab": {
          "base_uri": "https://localhost:8080/"
        },
        "id": "tbmo3H7renfu",
        "outputId": "8dfa3d9b-31b0-4361-a561-2df3419c870d"
      },
      "source": [
        "\"\"\"\n",
        "Takes in a string of text, then normalize it:\n",
        "\"\"\"\n",
        "\n",
        "nltk.download('stopwords')\n",
        "def text_perprocessing(message):\n",
        "    # 1. Removes all punctuation\n",
        "    nopunc = [char for char in message if char not in string.punctuation]\n",
        "    nopunc = ''.join(nopunc)\n",
        "    # 2. Removes all stopwords\n",
        "    stop_words = set(stopwords.words('english'))\n",
        "    nostop = [word.lower() for word in nopunc.split() if word.lower() not in stop_words]\n",
        "\n",
        "    return \" \".join(nostop)"
      ],
      "execution_count": 64,
      "outputs": [
        {
          "output_type": "stream",
          "text": [
            "[nltk_data] Downloading package stopwords to /root/nltk_data...\n",
            "[nltk_data]   Package stopwords is already up-to-date!\n"
          ],
          "name": "stdout"
        }
      ]
    },
    {
      "cell_type": "markdown",
      "metadata": {
        "id": "rgHNPeeQYVbl"
      },
      "source": [
        "COUNT VECTORIZER"
      ]
    },
    {
      "cell_type": "code",
      "metadata": {
        "id": "xd8lnwo2d_MI"
      },
      "source": [
        "cv = CountVectorizer(analyzer=text_perprocessing)\n",
        "X_transform = cv.fit_transform(X)"
      ],
      "execution_count": 88,
      "outputs": []
    },
    {
      "cell_type": "markdown",
      "metadata": {
        "id": "vy-3iluTYZbK"
      },
      "source": [
        "TF-IDF"
      ]
    },
    {
      "cell_type": "code",
      "metadata": {
        "id": "s8CJUfzeWs8Y",
        "colab": {
          "base_uri": "https://localhost:8080/"
        },
        "outputId": "f60df80c-3d75-4126-8d2b-3bc58a2914ce"
      },
      "source": [
        "def get_length(df): return csr_matrix(df.apply(len).to_numpy().reshape(-1,1))\n",
        "\n",
        "feature_pipe = FeatureUnion([('tfidf',TfidfVectorizer(analyzer=text_perprocessing)), ('length',FunctionTransformer(get_length))])\n",
        "\n",
        "X_transform = feature_pipe.fit_transform(X)\n",
        "\n",
        "(X_transform.toarray().size)"
      ],
      "execution_count": 12,
      "outputs": [
        {
          "output_type": "execute_result",
          "data": {
            "text/plain": [
              "916022"
            ]
          },
          "metadata": {
            "tags": []
          },
          "execution_count": 12
        }
      ]
    },
    {
      "cell_type": "markdown",
      "metadata": {
        "id": "a-avvfkhY53W"
      },
      "source": [
        "TRANSFORMER BASED FEATURES"
      ]
    },
    {
      "cell_type": "code",
      "metadata": {
        "id": "iguyy-M7ZDEo"
      },
      "source": [
        "!pip install transformers"
      ],
      "execution_count": null,
      "outputs": []
    },
    {
      "cell_type": "code",
      "metadata": {
        "id": "6e-3VHP5fsnw"
      },
      "source": [
        "import torch\n",
        "import transformers\n",
        "from nltk.tokenize import word_tokenize\n",
        "import numpy as np\n"
      ],
      "execution_count": 16,
      "outputs": []
    },
    {
      "cell_type": "code",
      "metadata": {
        "id": "bKWe3P9Hhf1_"
      },
      "source": [
        " # take over whatever gpus are on the system\n",
        "device = 'cpu'\n",
        "gpu_ids = []\n",
        "if torch.cuda.is_available():\n",
        "    gpu_ids += [gpu_id for gpu_id in range(torch.cuda.device_count())]\n",
        "    device = torch.device(f'cuda:{gpu_ids[0]}')\n",
        "    torch.cuda.set_device(device)\n",
        "else:\n",
        "    device = torch.device('cpu')\n",
        "\n",
        "# Loading pretrained model/tokenizer\n",
        "tokenizer = transformers.DistilBertTokenizer.from_pretrained(\"distilbert-base-uncased\")\n",
        "model = transformers.DistilBertModel.from_pretrained(\"distilbert-base-uncased\")\n",
        "\n",
        "tokenized = df[\"message\"].apply(lambda x: tokenizer.encode(x, add_special_tokens=True))\n",
        "max_len = tokenized.apply(len).max() # get the length of the longest tokenized sentence\n",
        "\n",
        "padded = np.array([i + [0] * (max_len-len(i)) for i in tokenized.values]) # padd the rest of the sentence with zeros if the sentence is smaller than the longest sentence\n",
        "\n",
        "attention_mask = np.where(padded != 0, 1, 0)\n",
        "\n",
        "input_ids = torch.tensor(padded)  # create a torch tensor for the padded sentences\n",
        "input_ids = input_ids.to(device)\n",
        "attention_mask = torch.tensor(attention_mask) # create a torch tensor for the attention matrix\n",
        "attention_mask = attention_mask.to(device)\n",
        "model = model.to(device)\n",
        "encoder_hidden_state = None\n",
        "\n",
        "with torch.no_grad():\n",
        "    encoder_hidden_state = model(input_ids, attention_mask=attention_mask)\n",
        "\n",
        "X = encoder_hidden_state[0][:,0,:].numpy()\n",
        "X_transform = np.hstack((X, df[[\"num_words\", \"message_len\"]].to_numpy().reshape(-1, 2))) # addind the the engineered features from the beginning"
      ],
      "execution_count": 32,
      "outputs": []
    },
    {
      "cell_type": "code",
      "metadata": {
        "id": "_YoK81iD4EXs"
      },
      "source": [
        ""
      ],
      "execution_count": null,
      "outputs": []
    },
    {
      "cell_type": "markdown",
      "metadata": {
        "id": "jQmhj9pu4Mky"
      },
      "source": [
        "TEXT2SEQ"
      ]
    },
    {
      "cell_type": "code",
      "metadata": {
        "id": "EaKXrOmi4c8Z"
      },
      "source": [
        "!pip install tensorflow==2.5.0"
      ],
      "execution_count": null,
      "outputs": []
    },
    {
      "cell_type": "code",
      "metadata": {
        "id": "VmXTCG0-4TjD"
      },
      "source": [
        "from keras.preprocessing.text import Tokenizer\n",
        "from keras.preprocessing import sequence\n",
        "\n",
        "%matplotlib inline"
      ],
      "execution_count": 75,
      "outputs": []
    },
    {
      "cell_type": "code",
      "metadata": {
        "id": "UGpwf_UV4HNq"
      },
      "source": [
        "max_words = 1000\n",
        "max_len = 150\n",
        "tok = Tokenizer(num_words=max_words)\n",
        "tok.fit_on_texts(X)\n",
        "sequences = tok.texts_to_sequences(X)\n",
        "X_transform = sequence.pad_sequences(sequences,maxlen=max_len)\n"
      ],
      "execution_count": 76,
      "outputs": []
    },
    {
      "cell_type": "code",
      "metadata": {
        "id": "jmvZllv6evG9"
      },
      "source": [
        "# SPLIT DATASETß\n",
        "X_train,X_test,Y_train,Y_test = train_test_split(X_transform,Y,test_size=0.2)"
      ],
      "execution_count": 89,
      "outputs": []
    },
    {
      "cell_type": "markdown",
      "metadata": {
        "id": "uDr1-jevVVuS"
      },
      "source": [
        "TRADITIONAL ML MODELS\n"
      ]
    },
    {
      "cell_type": "code",
      "metadata": {
        "id": "brhh9vCKwWZc"
      },
      "source": [
        "from sklearn.metrics import f1_score\n",
        "from sklearn.metrics import recall_score\n",
        "from sklearn.metrics import precision_score\n",
        "from sklearn.metrics import classification_report, confusion_matrix, accuracy_score, precision_recall_curve"
      ],
      "execution_count": 90,
      "outputs": []
    },
    {
      "cell_type": "code",
      "metadata": {
        "id": "2Kf1-4rR9KTj"
      },
      "source": [
        "def eval_result(X_test, y_test, pred):\n",
        "  print(classification_report(y_test, pred, target_names = ['Ham', 'Spam']))\n",
        "  display(pd.DataFrame(confusion_matrix(y_test, pred), \n",
        "                    columns = ['Predicted Ham', 'Predicted Spam'],\n",
        "                    index = ['Ham', 'Spam']))\n",
        "  \n",
        "  print(f'Accuracy: {round(accuracy_score(y_test, pred), 5)}')\n",
        "\n",
        "  fig = plt.figure(figsize=(10,4))\n",
        "  heatmap = sns.heatmap(data = pd.DataFrame(confusion_matrix(y_test, pred)), annot = True, fmt = \"d\", cmap=sns.color_palette(\"Reds\", 50))\n",
        "  heatmap.yaxis.set_ticklabels(heatmap.yaxis.get_ticklabels(), rotation=0, ha='right', fontsize=14)\n",
        "  heatmap.xaxis.set_ticklabels(heatmap.xaxis.get_ticklabels(), rotation=45, ha='right', fontsize=14)\n",
        "  plt.ylabel('Ground Truth')\n",
        "  plt.xlabel('Prediction')\n",
        "  plt.show()\n",
        "\n",
        "  precision, recall, thresholds = precision_recall_curve(y_test, pred)\n",
        "\n",
        "  fig, ax = plt.subplots(figsize=(6,6))\n",
        "  ax.plot(recall, precision, label='Model')\n",
        "  ax.set_xlabel('Recall')\n",
        "  ax.set_ylabel('Precision')\n",
        "  ax.legend(loc='center left');"
      ],
      "execution_count": 91,
      "outputs": []
    },
    {
      "cell_type": "code",
      "metadata": {
        "colab": {
          "base_uri": "https://localhost:8080/",
          "height": 921
        },
        "id": "i8txDZPugaqx",
        "outputId": "5feab7f3-b699-4442-a85a-656b29ca0116"
      },
      "source": [
        "# NAIVE BAYES\n",
        "from sklearn.naive_bayes import MultinomialNB\n",
        "\n",
        "nb = MultinomialNB()\n",
        "nb.fit(X_train, Y_train.reshape(len(Y_train), ))\n",
        "\n",
        "nb_pred = nb.predict(X_test)\n",
        "eval_result(X_test, Y_test.reshape(len(Y_test), ), nb_pred)"
      ],
      "execution_count": 92,
      "outputs": [
        {
          "output_type": "stream",
          "text": [
            "              precision    recall  f1-score   support\n",
            "\n",
            "         Ham       0.98      0.98      0.98      1906\n",
            "        Spam       0.89      0.86      0.87       329\n",
            "\n",
            "    accuracy                           0.96      2235\n",
            "   macro avg       0.93      0.92      0.93      2235\n",
            "weighted avg       0.96      0.96      0.96      2235\n",
            "\n"
          ],
          "name": "stdout"
        },
        {
          "output_type": "display_data",
          "data": {
            "text/html": [
              "<div>\n",
              "<style scoped>\n",
              "    .dataframe tbody tr th:only-of-type {\n",
              "        vertical-align: middle;\n",
              "    }\n",
              "\n",
              "    .dataframe tbody tr th {\n",
              "        vertical-align: top;\n",
              "    }\n",
              "\n",
              "    .dataframe thead th {\n",
              "        text-align: right;\n",
              "    }\n",
              "</style>\n",
              "<table border=\"1\" class=\"dataframe\">\n",
              "  <thead>\n",
              "    <tr style=\"text-align: right;\">\n",
              "      <th></th>\n",
              "      <th>Predicted Ham</th>\n",
              "      <th>Predicted Spam</th>\n",
              "    </tr>\n",
              "  </thead>\n",
              "  <tbody>\n",
              "    <tr>\n",
              "      <th>Ham</th>\n",
              "      <td>1872</td>\n",
              "      <td>34</td>\n",
              "    </tr>\n",
              "    <tr>\n",
              "      <th>Spam</th>\n",
              "      <td>47</td>\n",
              "      <td>282</td>\n",
              "    </tr>\n",
              "  </tbody>\n",
              "</table>\n",
              "</div>"
            ],
            "text/plain": [
              "      Predicted Ham  Predicted Spam\n",
              "Ham            1872              34\n",
              "Spam             47             282"
            ]
          },
          "metadata": {
            "tags": []
          }
        },
        {
          "output_type": "stream",
          "text": [
            "Accuracy: 0.96376\n"
          ],
          "name": "stdout"
        },
        {
          "output_type": "display_data",
          "data": {
            "image/png": "[encoded data removed]",
            "text/plain": [
              "<Figure size 720x288 with 2 Axes>"
            ]
          },
          "metadata": {
            "tags": [],
            "needs_background": "light"
          }
        },
        {
          "output_type": "display_data",
          "data": {
            "image/png": "[encoded data removed]",
            "text/plain": [
              "<Figure size 432x432 with 1 Axes>"
            ]
          },
          "metadata": {
            "tags": [],
            "needs_background": "light"
          }
        }
      ]
    },
    {
      "cell_type": "code",
      "metadata": {
        "colab": {
          "base_uri": "https://localhost:8080/",
          "height": 1000
        },
        "id": "B-ELzkXYhRvu",
        "outputId": "800462d8-fa51-47f0-e532-8a1eda323d97"
      },
      "source": [
        "# LOGISTIC REGRESSION\n",
        "from sklearn.linear_model import LogisticRegression\n",
        "\n",
        "lr = LogisticRegression()\n",
        "lr.fit(X_train, Y_train.reshape(len(Y_train), ))\n",
        "\n",
        "lr_pred = lr.predict(X_test)\n",
        "eval_result(X_test, Y_test.reshape(len(Y_test), ), lr_pred)"
      ],
      "execution_count": 93,
      "outputs": [
        {
          "output_type": "stream",
          "text": [
            "              precision    recall  f1-score   support\n",
            "\n",
            "         Ham       0.98      0.99      0.99      1906\n",
            "        Spam       0.96      0.89      0.93       329\n",
            "\n",
            "    accuracy                           0.98      2235\n",
            "   macro avg       0.97      0.94      0.96      2235\n",
            "weighted avg       0.98      0.98      0.98      2235\n",
            "\n"
          ],
          "name": "stdout"
        },
        {
          "output_type": "stream",
          "text": [
            "/usr/local/lib/python3.7/dist-packages/sklearn/linear_model/_logistic.py:940: ConvergenceWarning: lbfgs failed to converge (status=1):\n",
            "STOP: TOTAL NO. of ITERATIONS REACHED LIMIT.\n",
            "\n",
            "Increase the number of iterations (max_iter) or scale the data as shown in:\n",
            "    https://scikit-learn.org/stable/modules/preprocessing.html\n",
            "Please also refer to the documentation for alternative solver options:\n",
            "    https://scikit-learn.org/stable/modules/linear_model.html#logistic-regression\n",
            "  extra_warning_msg=_LOGISTIC_SOLVER_CONVERGENCE_MSG)\n"
          ],
          "name": "stderr"
        },
        {
          "output_type": "display_data",
          "data": {
            "text/html": [
              "<div>\n",
              "<style scoped>\n",
              "    .dataframe tbody tr th:only-of-type {\n",
              "        vertical-align: middle;\n",
              "    }\n",
              "\n",
              "    .dataframe tbody tr th {\n",
              "        vertical-align: top;\n",
              "    }\n",
              "\n",
              "    .dataframe thead th {\n",
              "        text-align: right;\n",
              "    }\n",
              "</style>\n",
              "<table border=\"1\" class=\"dataframe\">\n",
              "  <thead>\n",
              "    <tr style=\"text-align: right;\">\n",
              "      <th></th>\n",
              "      <th>Predicted Ham</th>\n",
              "      <th>Predicted Spam</th>\n",
              "    </tr>\n",
              "  </thead>\n",
              "  <tbody>\n",
              "    <tr>\n",
              "      <th>Ham</th>\n",
              "      <td>1895</td>\n",
              "      <td>11</td>\n",
              "    </tr>\n",
              "    <tr>\n",
              "      <th>Spam</th>\n",
              "      <td>36</td>\n",
              "      <td>293</td>\n",
              "    </tr>\n",
              "  </tbody>\n",
              "</table>\n",
              "</div>"
            ],
            "text/plain": [
              "      Predicted Ham  Predicted Spam\n",
              "Ham            1895              11\n",
              "Spam             36             293"
            ]
          },
          "metadata": {
            "tags": []
          }
        },
        {
          "output_type": "stream",
          "text": [
            "Accuracy: 0.97897\n"
          ],
          "name": "stdout"
        },
        {
          "output_type": "display_data",
          "data": {
            "image/png": "[encoded data removed]",
            "text/plain": [
              "<Figure size 720x288 with 2 Axes>"
            ]
          },
          "metadata": {
            "tags": [],
            "needs_background": "light"
          }
        },
        {
          "output_type": "display_data",
          "data": {
            "image/png": "[encoded data removed]",
            "text/plain": [
              "<Figure size 432x432 with 1 Axes>"
            ]
          },
          "metadata": {
            "tags": [],
            "needs_background": "light"
          }
        }
      ]
    },
    {
      "cell_type": "code",
      "metadata": {
        "colab": {
          "base_uri": "https://localhost:8080/",
          "height": 921
        },
        "id": "AIRVLaLikEPD",
        "outputId": "a11cbe4b-9f13-4d4f-d925-1074e1c5dcfc"
      },
      "source": [
        "# SVM\n",
        "from sklearn.svm import SVC\n",
        "svm = SVC()\n",
        "svm.fit(X_train, Y_train.reshape(len(Y_train), ))\n",
        "\n",
        "svm_pred = svm.predict(X_test)\n",
        "eval_result(X_test, Y_test.reshape(len(Y_test), ), svm_pred)"
      ],
      "execution_count": 94,
      "outputs": [
        {
          "output_type": "stream",
          "text": [
            "              precision    recall  f1-score   support\n",
            "\n",
            "         Ham       0.98      1.00      0.99      1906\n",
            "        Spam       1.00      0.88      0.94       329\n",
            "\n",
            "    accuracy                           0.98      2235\n",
            "   macro avg       0.99      0.94      0.96      2235\n",
            "weighted avg       0.98      0.98      0.98      2235\n",
            "\n"
          ],
          "name": "stdout"
        },
        {
          "output_type": "display_data",
          "data": {
            "text/html": [
              "<div>\n",
              "<style scoped>\n",
              "    .dataframe tbody tr th:only-of-type {\n",
              "        vertical-align: middle;\n",
              "    }\n",
              "\n",
              "    .dataframe tbody tr th {\n",
              "        vertical-align: top;\n",
              "    }\n",
              "\n",
              "    .dataframe thead th {\n",
              "        text-align: right;\n",
              "    }\n",
              "</style>\n",
              "<table border=\"1\" class=\"dataframe\">\n",
              "  <thead>\n",
              "    <tr style=\"text-align: right;\">\n",
              "      <th></th>\n",
              "      <th>Predicted Ham</th>\n",
              "      <th>Predicted Spam</th>\n",
              "    </tr>\n",
              "  </thead>\n",
              "  <tbody>\n",
              "    <tr>\n",
              "      <th>Ham</th>\n",
              "      <td>1905</td>\n",
              "      <td>1</td>\n",
              "    </tr>\n",
              "    <tr>\n",
              "      <th>Spam</th>\n",
              "      <td>39</td>\n",
              "      <td>290</td>\n",
              "    </tr>\n",
              "  </tbody>\n",
              "</table>\n",
              "</div>"
            ],
            "text/plain": [
              "      Predicted Ham  Predicted Spam\n",
              "Ham            1905               1\n",
              "Spam             39             290"
            ]
          },
          "metadata": {
            "tags": []
          }
        },
        {
          "output_type": "stream",
          "text": [
            "Accuracy: 0.9821\n"
          ],
          "name": "stdout"
        },
        {
          "output_type": "display_data",
          "data": {
            "image/png": "[encoded data removed]",
            "text/plain": [
              "<Figure size 720x288 with 2 Axes>"
            ]
          },
          "metadata": {
            "tags": [],
            "needs_background": "light"
          }
        },
        {
          "output_type": "display_data",
          "data": {
            "image/png": "[encoded data removed]",
            "text/plain": [
              "<Figure size 432x432 with 1 Axes>"
            ]
          },
          "metadata": {
            "tags": [],
            "needs_background": "light"
          }
        }
      ]
    },
    {
      "cell_type": "code",
      "metadata": {
        "colab": {
          "base_uri": "https://localhost:8080/",
          "height": 921
        },
        "id": "8rfHN5XVr-F7",
        "outputId": "7aae4a01-ef06-4d3d-f34f-87d46246a33e"
      },
      "source": [
        "# K-NEAREST NEIGHBORS\n",
        "from sklearn.neighbors import KNeighborsClassifier\n",
        "neigh = KNeighborsClassifier(n_neighbors=2)\n",
        "neigh.fit(X_train, Y_train.reshape(len(Y_train), ))\n",
        "\n",
        "neigh_pred = neigh.predict(X_test)\n",
        "eval_result(X_test, Y_test.reshape(len(Y_test), ), neigh_pred)"
      ],
      "execution_count": 95,
      "outputs": [
        {
          "output_type": "stream",
          "text": [
            "              precision    recall  f1-score   support\n",
            "\n",
            "         Ham       0.97      1.00      0.98      1906\n",
            "        Spam       0.99      0.81      0.89       329\n",
            "\n",
            "    accuracy                           0.97      2235\n",
            "   macro avg       0.98      0.90      0.94      2235\n",
            "weighted avg       0.97      0.97      0.97      2235\n",
            "\n"
          ],
          "name": "stdout"
        },
        {
          "output_type": "display_data",
          "data": {
            "text/html": [
              "<div>\n",
              "<style scoped>\n",
              "    .dataframe tbody tr th:only-of-type {\n",
              "        vertical-align: middle;\n",
              "    }\n",
              "\n",
              "    .dataframe tbody tr th {\n",
              "        vertical-align: top;\n",
              "    }\n",
              "\n",
              "    .dataframe thead th {\n",
              "        text-align: right;\n",
              "    }\n",
              "</style>\n",
              "<table border=\"1\" class=\"dataframe\">\n",
              "  <thead>\n",
              "    <tr style=\"text-align: right;\">\n",
              "      <th></th>\n",
              "      <th>Predicted Ham</th>\n",
              "      <th>Predicted Spam</th>\n",
              "    </tr>\n",
              "  </thead>\n",
              "  <tbody>\n",
              "    <tr>\n",
              "      <th>Ham</th>\n",
              "      <td>1903</td>\n",
              "      <td>3</td>\n",
              "    </tr>\n",
              "    <tr>\n",
              "      <th>Spam</th>\n",
              "      <td>62</td>\n",
              "      <td>267</td>\n",
              "    </tr>\n",
              "  </tbody>\n",
              "</table>\n",
              "</div>"
            ],
            "text/plain": [
              "      Predicted Ham  Predicted Spam\n",
              "Ham            1903               3\n",
              "Spam             62             267"
            ]
          },
          "metadata": {
            "tags": []
          }
        },
        {
          "output_type": "stream",
          "text": [
            "Accuracy: 0.97092\n"
          ],
          "name": "stdout"
        },
        {
          "output_type": "display_data",
          "data": {
            "image/png": "[encoded data removed]",
            "text/plain": [
              "<Figure size 720x288 with 2 Axes>"
            ]
          },
          "metadata": {
            "tags": [],
            "needs_background": "light"
          }
        },
        {
          "output_type": "display_data",
          "data": {
            "image/png": "[encoded data removed]",
            "text/plain": [
              "<Figure size 432x432 with 1 Axes>"
            ]
          },
          "metadata": {
            "tags": [],
            "needs_background": "light"
          }
        }
      ]
    },
    {
      "cell_type": "code",
      "metadata": {
        "colab": {
          "base_uri": "https://localhost:8080/",
          "height": 921
        },
        "id": "X51e9izT7Q1B",
        "outputId": "2f62ef81-712c-4de1-e6df-df9f6e51b95a"
      },
      "source": [
        "# RANDOM FOREST\n",
        "from sklearn.ensemble import RandomForestClassifier\n",
        "\n",
        "rfc = RandomForestClassifier(n_jobs = -1, random_state = 1)\n",
        "rfc.fit(X_train, Y_train.reshape(len(Y_train), ))\n",
        "\n",
        "rfc_pred = rfc.predict(X_test)\n",
        "eval_result(X_test, Y_test.reshape(len(Y_test), ), rfc_pred)"
      ],
      "execution_count": 96,
      "outputs": [
        {
          "output_type": "stream",
          "text": [
            "              precision    recall  f1-score   support\n",
            "\n",
            "         Ham       0.99      1.00      1.00      1906\n",
            "        Spam       1.00      0.96      0.98       329\n",
            "\n",
            "    accuracy                           0.99      2235\n",
            "   macro avg       1.00      0.98      0.99      2235\n",
            "weighted avg       0.99      0.99      0.99      2235\n",
            "\n"
          ],
          "name": "stdout"
        },
        {
          "output_type": "display_data",
          "data": {
            "text/html": [
              "<div>\n",
              "<style scoped>\n",
              "    .dataframe tbody tr th:only-of-type {\n",
              "        vertical-align: middle;\n",
              "    }\n",
              "\n",
              "    .dataframe tbody tr th {\n",
              "        vertical-align: top;\n",
              "    }\n",
              "\n",
              "    .dataframe thead th {\n",
              "        text-align: right;\n",
              "    }\n",
              "</style>\n",
              "<table border=\"1\" class=\"dataframe\">\n",
              "  <thead>\n",
              "    <tr style=\"text-align: right;\">\n",
              "      <th></th>\n",
              "      <th>Predicted Ham</th>\n",
              "      <th>Predicted Spam</th>\n",
              "    </tr>\n",
              "  </thead>\n",
              "  <tbody>\n",
              "    <tr>\n",
              "      <th>Ham</th>\n",
              "      <td>1905</td>\n",
              "      <td>1</td>\n",
              "    </tr>\n",
              "    <tr>\n",
              "      <th>Spam</th>\n",
              "      <td>13</td>\n",
              "      <td>316</td>\n",
              "    </tr>\n",
              "  </tbody>\n",
              "</table>\n",
              "</div>"
            ],
            "text/plain": [
              "      Predicted Ham  Predicted Spam\n",
              "Ham            1905               1\n",
              "Spam             13             316"
            ]
          },
          "metadata": {
            "tags": []
          }
        },
        {
          "output_type": "stream",
          "text": [
            "Accuracy: 0.99374\n"
          ],
          "name": "stdout"
        },
        {
          "output_type": "display_data",
          "data": {
            "image/png": "[encoded data removed]",
            "text/plain": [
              "<Figure size 720x288 with 2 Axes>"
            ]
          },
          "metadata": {
            "tags": [],
            "needs_background": "light"
          }
        },
        {
          "output_type": "display_data",
          "data": {
            "image/png": "[encoded data removed]",
            "text/plain": [
              "<Figure size 432x432 with 1 Axes>"
            ]
          },
          "metadata": {
            "tags": [],
            "needs_background": "light"
          }
        }
      ]
    },
    {
      "cell_type": "markdown",
      "metadata": {
        "id": "InCWcktvLMGQ"
      },
      "source": [
        "DEEP LEARNING MODELS"
      ]
    },
    {
      "cell_type": "markdown",
      "metadata": {
        "id": "aQLBuDpn3Tk_"
      },
      "source": [
        "LSTM"
      ]
    },
    {
      "cell_type": "code",
      "metadata": {
        "id": "xEQ8lh138lQi"
      },
      "source": [
        "from keras.models import Model\n",
        "from keras.layers import LSTM, Activation, Dense, Dropout, Input, Embedding, Convolution1D, MaxPooling1D, Flatten, LeakyReLU, ReLU\n",
        "from keras.optimizers import RMSprop\n",
        "from keras.callbacks import EarlyStopping"
      ],
      "execution_count": 78,
      "outputs": []
    },
    {
      "cell_type": "code",
      "metadata": {
        "id": "-gb2t3I5kJoO",
        "colab": {
          "base_uri": "https://localhost:8080/"
        },
        "outputId": "4988876b-5d7e-41b5-bfe0-6a676c70bf6d"
      },
      "source": [
        "def RNN():\n",
        "    inputs = Input(name='inputs',shape=[max_len])\n",
        "    layer = Embedding(max_words,50,input_length=max_len)(inputs)\n",
        "    layer = Dropout(0.4)(layer)\n",
        "    layer = LSTM(64)(layer)\n",
        "    layer = Dense(256,name='FC1')(layer)\n",
        "    layer = LeakyReLU(alpha=0.1)(layer)\n",
        "    layer = Dropout(0.2)(layer)\n",
        "    layer = Dense(1,name='out_layer')(layer)\n",
        "    layer = Activation('sigmoid')(layer)\n",
        "    model = Model(inputs=inputs,outputs=layer)\n",
        "    \n",
        "    return model\n",
        "\n",
        "model = RNN()\n",
        "model.summary()\n",
        "model.compile(loss='binary_crossentropy',optimizer=RMSprop(),metrics=['accuracy'])"
      ],
      "execution_count": 79,
      "outputs": [
        {
          "output_type": "stream",
          "text": [
            "Model: \"model_3\"\n",
            "_________________________________________________________________\n",
            "Layer (type)                 Output Shape              Param #   \n",
            "=================================================================\n",
            "inputs (InputLayer)          [(None, 150)]             0         \n",
            "_________________________________________________________________\n",
            "embedding_3 (Embedding)      (None, 150, 50)           50000     \n",
            "_________________________________________________________________\n",
            "dropout_2 (Dropout)          (None, 150, 50)           0         \n",
            "_________________________________________________________________\n",
            "lstm_2 (LSTM)                (None, 64)                29440     \n",
            "_________________________________________________________________\n",
            "FC1 (Dense)                  (None, 256)               16640     \n",
            "_________________________________________________________________\n",
            "leaky_re_lu_2 (LeakyReLU)    (None, 256)               0         \n",
            "_________________________________________________________________\n",
            "dropout_3 (Dropout)          (None, 256)               0         \n",
            "_________________________________________________________________\n",
            "out_layer (Dense)            (None, 1)                 257       \n",
            "_________________________________________________________________\n",
            "activation_3 (Activation)    (None, 1)                 0         \n",
            "=================================================================\n",
            "Total params: 96,337\n",
            "Trainable params: 96,337\n",
            "Non-trainable params: 0\n",
            "_________________________________________________________________\n"
          ],
          "name": "stdout"
        }
      ]
    },
    {
      "cell_type": "code",
      "metadata": {
        "colab": {
          "base_uri": "https://localhost:8080/"
        },
        "id": "twj7vBWp3bO8",
        "outputId": "eb459808-1f13-49db-e441-c7ad603f44b4"
      },
      "source": [
        "model.fit(X_train, Y_train,batch_size=128,epochs=10,\n",
        "          validation_split=0.2,callbacks=[EarlyStopping(monitor='val_loss',min_delta=0.0001)])"
      ],
      "execution_count": 80,
      "outputs": [
        {
          "output_type": "stream",
          "text": [
            "Epoch 1/10\n",
            "56/56 [==============================] - 4s 30ms/step - loss: 0.3391 - accuracy: 0.8572 - val_loss: 0.0551 - val_accuracy: 0.9838\n"
          ],
          "name": "stdout"
        },
        {
          "output_type": "execute_result",
          "data": {
            "text/plain": [
              "<keras.callbacks.History at 0x7f277d941950>"
            ]
          },
          "metadata": {
            "tags": []
          },
          "execution_count": 80
        }
      ]
    },
    {
      "cell_type": "code",
      "metadata": {
        "colab": {
          "base_uri": "https://localhost:8080/",
          "height": 921
        },
        "id": "s853kdvU3cFV",
        "outputId": "df584abb-7e3b-4912-b3c8-be97e84f9e08"
      },
      "source": [
        "pred = model.predict(X_test)\n",
        "pred[pred >= 0.5] = 1\n",
        "pred[pred < 0.5] = 0\n",
        "\n",
        "eval_result(X_test, Y_test.reshape(len(Y_test), ), pred)"
      ],
      "execution_count": 81,
      "outputs": [
        {
          "output_type": "stream",
          "text": [
            "              precision    recall  f1-score   support\n",
            "\n",
            "         Ham       0.99      0.99      0.99      1912\n",
            "        Spam       0.96      0.93      0.94       323\n",
            "\n",
            "    accuracy                           0.98      2235\n",
            "   macro avg       0.97      0.96      0.97      2235\n",
            "weighted avg       0.98      0.98      0.98      2235\n",
            "\n"
          ],
          "name": "stdout"
        },
        {
          "output_type": "display_data",
          "data": {
            "text/html": [
              "<div>\n",
              "<style scoped>\n",
              "    .dataframe tbody tr th:only-of-type {\n",
              "        vertical-align: middle;\n",
              "    }\n",
              "\n",
              "    .dataframe tbody tr th {\n",
              "        vertical-align: top;\n",
              "    }\n",
              "\n",
              "    .dataframe thead th {\n",
              "        text-align: right;\n",
              "    }\n",
              "</style>\n",
              "<table border=\"1\" class=\"dataframe\">\n",
              "  <thead>\n",
              "    <tr style=\"text-align: right;\">\n",
              "      <th></th>\n",
              "      <th>Predicted Ham</th>\n",
              "      <th>Predicted Spam</th>\n",
              "    </tr>\n",
              "  </thead>\n",
              "  <tbody>\n",
              "    <tr>\n",
              "      <th>Ham</th>\n",
              "      <td>1899</td>\n",
              "      <td>13</td>\n",
              "    </tr>\n",
              "    <tr>\n",
              "      <th>Spam</th>\n",
              "      <td>24</td>\n",
              "      <td>299</td>\n",
              "    </tr>\n",
              "  </tbody>\n",
              "</table>\n",
              "</div>"
            ],
            "text/plain": [
              "      Predicted Ham  Predicted Spam\n",
              "Ham            1899              13\n",
              "Spam             24             299"
            ]
          },
          "metadata": {
            "tags": []
          }
        },
        {
          "output_type": "stream",
          "text": [
            "Accuracy: 0.98345\n"
          ],
          "name": "stdout"
        },
        {
          "output_type": "display_data",
          "data": {
            "image/png": "[encoded data removed]",
            "text/plain": [
              "<Figure size 720x288 with 2 Axes>"
            ]
          },
          "metadata": {
            "tags": [],
            "needs_background": "light"
          }
        },
        {
          "output_type": "display_data",
          "data": {
            "image/png": "[encoded data removed]",
            "text/plain": [
              "<Figure size 432x432 with 1 Axes>"
            ]
          },
          "metadata": {
            "tags": [],
            "needs_background": "light"
          }
        }
      ]
    },
    {
      "cell_type": "markdown",
      "metadata": {
        "id": "5oz4aiXgKfYZ"
      },
      "source": [
        "CNN"
      ]
    },
    {
      "cell_type": "code",
      "metadata": {
        "colab": {
          "base_uri": "https://localhost:8080/"
        },
        "id": "BnQQLX6WKeMC",
        "outputId": "86670197-d90e-42f1-b41d-abdf5c0270c9"
      },
      "source": [
        "def CNN():\n",
        "    inputs = Input(name='inputs',shape=[max_len])\n",
        "    layer = Embedding(max_words,64,input_length=max_len)(inputs)\n",
        "    layer = Convolution1D(filters=32, kernel_size=3, input_shape=(max_len, 64))(layer)\n",
        "    layer = MaxPooling1D(pool_size=2)(layer)\n",
        "    layer = LeakyReLU(alpha=0.1)(layer)\n",
        "    layer = Flatten()(layer)\n",
        "    layer = Dense(1,name='out_layer')(layer)\n",
        "    layer = Activation('sigmoid')(layer)\n",
        "    model = Model(inputs=inputs,outputs=layer)\n",
        "    \n",
        "    return model\n",
        "\n",
        "model = CNN()\n",
        "model.summary()\n",
        "model.compile(loss='binary_crossentropy',optimizer=RMSprop(),metrics=['accuracy'])"
      ],
      "execution_count": 82,
      "outputs": [
        {
          "output_type": "stream",
          "text": [
            "Model: \"model_4\"\n",
            "_________________________________________________________________\n",
            "Layer (type)                 Output Shape              Param #   \n",
            "=================================================================\n",
            "inputs (InputLayer)          [(None, 150)]             0         \n",
            "_________________________________________________________________\n",
            "embedding_4 (Embedding)      (None, 150, 64)           64000     \n",
            "_________________________________________________________________\n",
            "conv1d_2 (Conv1D)            (None, 148, 32)           6176      \n",
            "_________________________________________________________________\n",
            "max_pooling1d_2 (MaxPooling1 (None, 74, 32)            0         \n",
            "_________________________________________________________________\n",
            "leaky_re_lu_3 (LeakyReLU)    (None, 74, 32)            0         \n",
            "_________________________________________________________________\n",
            "flatten_1 (Flatten)          (None, 2368)              0         \n",
            "_________________________________________________________________\n",
            "out_layer (Dense)            (None, 1)                 2369      \n",
            "_________________________________________________________________\n",
            "activation_4 (Activation)    (None, 1)                 0         \n",
            "=================================================================\n",
            "Total params: 72,545\n",
            "Trainable params: 72,545\n",
            "Non-trainable params: 0\n",
            "_________________________________________________________________\n"
          ],
          "name": "stdout"
        }
      ]
    },
    {
      "cell_type": "code",
      "metadata": {
        "colab": {
          "base_uri": "https://localhost:8080/"
        },
        "id": "fPuUaLh-KuXG",
        "outputId": "d4983e66-23c7-4a7b-a2d3-f16e47461555"
      },
      "source": [
        "model.fit(X_train, Y_train,batch_size=128,epochs=10,\n",
        "          validation_split=0.2,callbacks=[EarlyStopping(monitor='val_loss',min_delta=0.0001)])"
      ],
      "execution_count": 83,
      "outputs": [
        {
          "output_type": "stream",
          "text": [
            "Epoch 1/10\n",
            "56/56 [==============================] - 2s 14ms/step - loss: 0.4305 - accuracy: 0.8095 - val_loss: 0.1917 - val_accuracy: 0.9100\n"
          ],
          "name": "stdout"
        },
        {
          "output_type": "execute_result",
          "data": {
            "text/plain": [
              "<keras.callbacks.History at 0x7f26e412b390>"
            ]
          },
          "metadata": {
            "tags": []
          },
          "execution_count": 83
        }
      ]
    },
    {
      "cell_type": "code",
      "metadata": {
        "colab": {
          "base_uri": "https://localhost:8080/",
          "height": 921
        },
        "id": "gvym6uWwKze8",
        "outputId": "a525b807-1d8b-40d2-d624-1fdde1e6e75b"
      },
      "source": [
        "pred = model.predict(X_test)\n",
        "\n",
        "pred[pred >= 0.5] = 1\n",
        "pred[pred < 0.5] = 0\n",
        "\n",
        "eval_result(X_test, Y_test.reshape(len(Y_test), ), pred)"
      ],
      "execution_count": 84,
      "outputs": [
        {
          "output_type": "stream",
          "text": [
            "              precision    recall  f1-score   support\n",
            "\n",
            "         Ham       0.90      1.00      0.95      1912\n",
            "        Spam       0.99      0.33      0.49       323\n",
            "\n",
            "    accuracy                           0.90      2235\n",
            "   macro avg       0.94      0.66      0.72      2235\n",
            "weighted avg       0.91      0.90      0.88      2235\n",
            "\n"
          ],
          "name": "stdout"
        },
        {
          "output_type": "display_data",
          "data": {
            "text/html": [
              "<div>\n",
              "<style scoped>\n",
              "    .dataframe tbody tr th:only-of-type {\n",
              "        vertical-align: middle;\n",
              "    }\n",
              "\n",
              "    .dataframe tbody tr th {\n",
              "        vertical-align: top;\n",
              "    }\n",
              "\n",
              "    .dataframe thead th {\n",
              "        text-align: right;\n",
              "    }\n",
              "</style>\n",
              "<table border=\"1\" class=\"dataframe\">\n",
              "  <thead>\n",
              "    <tr style=\"text-align: right;\">\n",
              "      <th></th>\n",
              "      <th>Predicted Ham</th>\n",
              "      <th>Predicted Spam</th>\n",
              "    </tr>\n",
              "  </thead>\n",
              "  <tbody>\n",
              "    <tr>\n",
              "      <th>Ham</th>\n",
              "      <td>1911</td>\n",
              "      <td>1</td>\n",
              "    </tr>\n",
              "    <tr>\n",
              "      <th>Spam</th>\n",
              "      <td>217</td>\n",
              "      <td>106</td>\n",
              "    </tr>\n",
              "  </tbody>\n",
              "</table>\n",
              "</div>"
            ],
            "text/plain": [
              "      Predicted Ham  Predicted Spam\n",
              "Ham            1911               1\n",
              "Spam            217             106"
            ]
          },
          "metadata": {
            "tags": []
          }
        },
        {
          "output_type": "stream",
          "text": [
            "Accuracy: 0.90246\n"
          ],
          "name": "stdout"
        },
        {
          "output_type": "display_data",
          "data": {
            "image/png": "[encoded data removed]",
            "text/plain": [
              "<Figure size 720x288 with 2 Axes>"
            ]
          },
          "metadata": {
            "tags": [],
            "needs_background": "light"
          }
        },
        {
          "output_type": "display_data",
          "data": {
            "image/png": "[encoded data removed]",
            "text/plain": [
              "<Figure size 432x432 with 1 Axes>"
            ]
          },
          "metadata": {
            "tags": [],
            "needs_background": "light"
          }
        }
      ]
    },
    {
      "cell_type": "markdown",
      "metadata": {
        "id": "VEi8NiNm8H6x"
      },
      "source": [
        "CNN + LSTM"
      ]
    },
    {
      "cell_type": "code",
      "metadata": {
        "colab": {
          "base_uri": "https://localhost:8080/"
        },
        "id": "GzFudHqS3f-T",
        "outputId": "cf22b688-fa07-4824-d188-e1a562b5f9dd"
      },
      "source": [
        "def CNN_LSTM():\n",
        "    inputs = Input(name='inputs',shape=[max_len])\n",
        "    layer = Embedding(max_words,64,input_length=max_len)(inputs)\n",
        "    layer = Convolution1D(filters=32, kernel_size=3, input_shape=(max_len, 64))(layer)\n",
        "    layer = MaxPooling1D(pool_size=2)(layer)\n",
        "    # layer = ReLU()(layer)\n",
        "    \n",
        "    layer = LSTM(64)(layer)\n",
        "   \n",
        "    layer = Dense(1,name='out_layer')(layer)\n",
        "    layer = Activation('sigmoid')(layer)\n",
        "    model = Model(inputs=inputs,outputs=layer)\n",
        "    \n",
        "    return model\n",
        "\n",
        "model = CNN_LSTM()\n",
        "model.summary()\n",
        "model.compile(loss='binary_crossentropy',optimizer=RMSprop(),metrics=['accuracy'])"
      ],
      "execution_count": 85,
      "outputs": [
        {
          "output_type": "stream",
          "text": [
            "Model: \"model_5\"\n",
            "_________________________________________________________________\n",
            "Layer (type)                 Output Shape              Param #   \n",
            "=================================================================\n",
            "inputs (InputLayer)          [(None, 150)]             0         \n",
            "_________________________________________________________________\n",
            "embedding_5 (Embedding)      (None, 150, 64)           64000     \n",
            "_________________________________________________________________\n",
            "conv1d_3 (Conv1D)            (None, 148, 32)           6176      \n",
            "_________________________________________________________________\n",
            "max_pooling1d_3 (MaxPooling1 (None, 74, 32)            0         \n",
            "_________________________________________________________________\n",
            "lstm_3 (LSTM)                (None, 64)                24832     \n",
            "_________________________________________________________________\n",
            "out_layer (Dense)            (None, 1)                 65        \n",
            "_________________________________________________________________\n",
            "activation_5 (Activation)    (None, 1)                 0         \n",
            "=================================================================\n",
            "Total params: 95,073\n",
            "Trainable params: 95,073\n",
            "Non-trainable params: 0\n",
            "_________________________________________________________________\n"
          ],
          "name": "stdout"
        }
      ]
    },
    {
      "cell_type": "code",
      "metadata": {
        "colab": {
          "base_uri": "https://localhost:8080/"
        },
        "id": "w7_T6Oag3h0E",
        "outputId": "ffba02c0-8d83-4ced-f0e9-f4ed145da75a"
      },
      "source": [
        " model.fit(X_train, Y_train,batch_size=128,epochs=10,\n",
        "          validation_split=0.2, callbacks=[EarlyStopping(monitor='val_loss', min_delta=0.0001)])"
      ],
      "execution_count": 86,
      "outputs": [
        {
          "output_type": "stream",
          "text": [
            "Epoch 1/10\n",
            "56/56 [==============================] - 4s 26ms/step - loss: 0.3341 - accuracy: 0.8775 - val_loss: 0.0723 - val_accuracy: 0.9799\n"
          ],
          "name": "stdout"
        },
        {
          "output_type": "execute_result",
          "data": {
            "text/plain": [
              "<keras.callbacks.History at 0x7f27ba987750>"
            ]
          },
          "metadata": {
            "tags": []
          },
          "execution_count": 86
        }
      ]
    },
    {
      "cell_type": "code",
      "metadata": {
        "id": "2tmf0hr_WEWA",
        "colab": {
          "base_uri": "https://localhost:8080/",
          "height": 921
        },
        "outputId": "167f4d94-3be7-409c-85d9-0fba62dbd172"
      },
      "source": [
        "pred = model.predict(X_test)\n",
        "pred[pred >= 0.5] = 1\n",
        "pred[pred < 0.5] = 0\n",
        "\n",
        "eval_result(X_test, Y_test.reshape(len(Y_test), ), pred)"
      ],
      "execution_count": 87,
      "outputs": [
        {
          "output_type": "stream",
          "text": [
            "              precision    recall  f1-score   support\n",
            "\n",
            "         Ham       0.98      1.00      0.99      1912\n",
            "        Spam       0.97      0.88      0.92       323\n",
            "\n",
            "    accuracy                           0.98      2235\n",
            "   macro avg       0.98      0.94      0.96      2235\n",
            "weighted avg       0.98      0.98      0.98      2235\n",
            "\n"
          ],
          "name": "stdout"
        },
        {
          "output_type": "display_data",
          "data": {
            "text/html": [
              "<div>\n",
              "<style scoped>\n",
              "    .dataframe tbody tr th:only-of-type {\n",
              "        vertical-align: middle;\n",
              "    }\n",
              "\n",
              "    .dataframe tbody tr th {\n",
              "        vertical-align: top;\n",
              "    }\n",
              "\n",
              "    .dataframe thead th {\n",
              "        text-align: right;\n",
              "    }\n",
              "</style>\n",
              "<table border=\"1\" class=\"dataframe\">\n",
              "  <thead>\n",
              "    <tr style=\"text-align: right;\">\n",
              "      <th></th>\n",
              "      <th>Predicted Ham</th>\n",
              "      <th>Predicted Spam</th>\n",
              "    </tr>\n",
              "  </thead>\n",
              "  <tbody>\n",
              "    <tr>\n",
              "      <th>Ham</th>\n",
              "      <td>1904</td>\n",
              "      <td>8</td>\n",
              "    </tr>\n",
              "    <tr>\n",
              "      <th>Spam</th>\n",
              "      <td>39</td>\n",
              "      <td>284</td>\n",
              "    </tr>\n",
              "  </tbody>\n",
              "</table>\n",
              "</div>"
            ],
            "text/plain": [
              "      Predicted Ham  Predicted Spam\n",
              "Ham            1904               8\n",
              "Spam             39             284"
            ]
          },
          "metadata": {
            "tags": []
          }
        },
        {
          "output_type": "stream",
          "text": [
            "Accuracy: 0.97897\n"
          ],
          "name": "stdout"
        },
        {
          "output_type": "display_data",
          "data": {
            "image/png": "[encoded data removed]",
            "text/plain": [
              "<Figure size 720x288 with 2 Axes>"
            ]
          },
          "metadata": {
            "tags": [],
            "needs_background": "light"
          }
        },
        {
          "output_type": "display_data",
          "data": {
            "image/png": "[encoded data removed]",
            "text/plain": [
              "<Figure size 432x432 with 1 Axes>"
            ]
          },
          "metadata": {
            "tags": [],
            "needs_background": "light"
          }
        }
      ]
    },
    {
      "cell_type": "code",
      "metadata": {
        "id": "8YB63tt-BaFh"
      },
      "source": [
        ""
      ],
      "execution_count": 54,
      "outputs": []
    }
  ]
}